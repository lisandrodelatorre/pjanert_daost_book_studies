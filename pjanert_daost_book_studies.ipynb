{
 "cells": [
  {
   "cell_type": "code",
   "execution_count": 1,
   "metadata": {},
   "outputs": [],
   "source": [
    "import pandas as pd\r\n",
    "import numpy as np\r\n",
    "import matplotlib as plt"
   ]
  },
  {
   "cell_type": "code",
   "execution_count": 4,
   "metadata": {},
   "outputs": [],
   "source": [
    "file_path = './datasets/ch02_presidents'"
   ]
  },
  {
   "cell_type": "code",
   "execution_count": 5,
   "metadata": {},
   "outputs": [
    {
     "data": {
      "text/html": "<div>\n<style scoped>\n    .dataframe tbody tr th:only-of-type {\n        vertical-align: middle;\n    }\n\n    .dataframe tbody tr th {\n        vertical-align: top;\n    }\n\n    .dataframe thead th {\n        text-align: right;\n    }\n</style>\n<table border=\"1\" class=\"dataframe\">\n  <thead>\n    <tr style=\"text-align: right;\">\n      <th></th>\n      <th>number</th>\n      <th>name</th>\n      <th>months</th>\n    </tr>\n  </thead>\n  <tbody>\n    <tr>\n      <th>0</th>\n      <td>1</td>\n      <td>Washington</td>\n      <td>94</td>\n    </tr>\n    <tr>\n      <th>1</th>\n      <td>2</td>\n      <td>Adams</td>\n      <td>48</td>\n    </tr>\n    <tr>\n      <th>2</th>\n      <td>3</td>\n      <td>Jefferson</td>\n      <td>96</td>\n    </tr>\n    <tr>\n      <th>3</th>\n      <td>4</td>\n      <td>Madison</td>\n      <td>96</td>\n    </tr>\n    <tr>\n      <th>4</th>\n      <td>5</td>\n      <td>Monroe</td>\n      <td>96</td>\n    </tr>\n    <tr>\n      <th>5</th>\n      <td>6</td>\n      <td>Adams</td>\n      <td>48</td>\n    </tr>\n    <tr>\n      <th>6</th>\n      <td>7</td>\n      <td>Jackson</td>\n      <td>96</td>\n    </tr>\n    <tr>\n      <th>7</th>\n      <td>8</td>\n      <td>Van Buren</td>\n      <td>48</td>\n    </tr>\n    <tr>\n      <th>8</th>\n      <td>9</td>\n      <td>Harrison</td>\n      <td>1</td>\n    </tr>\n    <tr>\n      <th>9</th>\n      <td>10</td>\n      <td>Tyler</td>\n      <td>47</td>\n    </tr>\n    <tr>\n      <th>10</th>\n      <td>11</td>\n      <td>Polk</td>\n      <td>48</td>\n    </tr>\n    <tr>\n      <th>11</th>\n      <td>12</td>\n      <td>Taylor</td>\n      <td>16</td>\n    </tr>\n    <tr>\n      <th>12</th>\n      <td>13</td>\n      <td>Filmore</td>\n      <td>32</td>\n    </tr>\n    <tr>\n      <th>13</th>\n      <td>14</td>\n      <td>Pierce</td>\n      <td>48</td>\n    </tr>\n    <tr>\n      <th>14</th>\n      <td>15</td>\n      <td>Buchanan</td>\n      <td>48</td>\n    </tr>\n    <tr>\n      <th>15</th>\n      <td>16</td>\n      <td>Lincoln</td>\n      <td>49</td>\n    </tr>\n    <tr>\n      <th>16</th>\n      <td>17</td>\n      <td>Johnson</td>\n      <td>47</td>\n    </tr>\n    <tr>\n      <th>17</th>\n      <td>18</td>\n      <td>Grant</td>\n      <td>96</td>\n    </tr>\n    <tr>\n      <th>18</th>\n      <td>19</td>\n      <td>Hayes</td>\n      <td>48</td>\n    </tr>\n    <tr>\n      <th>19</th>\n      <td>20</td>\n      <td>Garfield</td>\n      <td>7</td>\n    </tr>\n    <tr>\n      <th>20</th>\n      <td>21</td>\n      <td>Arthur</td>\n      <td>41</td>\n    </tr>\n    <tr>\n      <th>21</th>\n      <td>22</td>\n      <td>Cleveland</td>\n      <td>48</td>\n    </tr>\n    <tr>\n      <th>22</th>\n      <td>23</td>\n      <td>Harrison</td>\n      <td>48</td>\n    </tr>\n    <tr>\n      <th>23</th>\n      <td>24</td>\n      <td>Cleveland</td>\n      <td>48</td>\n    </tr>\n    <tr>\n      <th>24</th>\n      <td>25</td>\n      <td>McKinley</td>\n      <td>54</td>\n    </tr>\n    <tr>\n      <th>25</th>\n      <td>26</td>\n      <td>Roosevelt</td>\n      <td>90</td>\n    </tr>\n    <tr>\n      <th>26</th>\n      <td>27</td>\n      <td>Taft</td>\n      <td>48</td>\n    </tr>\n    <tr>\n      <th>27</th>\n      <td>28</td>\n      <td>Wilson</td>\n      <td>96</td>\n    </tr>\n    <tr>\n      <th>28</th>\n      <td>29</td>\n      <td>Harding</td>\n      <td>29</td>\n    </tr>\n    <tr>\n      <th>29</th>\n      <td>30</td>\n      <td>Coolidge</td>\n      <td>67</td>\n    </tr>\n    <tr>\n      <th>30</th>\n      <td>31</td>\n      <td>Hoover</td>\n      <td>48</td>\n    </tr>\n    <tr>\n      <th>31</th>\n      <td>32</td>\n      <td>Roosevelt</td>\n      <td>146</td>\n    </tr>\n    <tr>\n      <th>32</th>\n      <td>33</td>\n      <td>Truman</td>\n      <td>92</td>\n    </tr>\n    <tr>\n      <th>33</th>\n      <td>34</td>\n      <td>Eisenhower</td>\n      <td>96</td>\n    </tr>\n    <tr>\n      <th>34</th>\n      <td>35</td>\n      <td>Kennedy</td>\n      <td>34</td>\n    </tr>\n    <tr>\n      <th>35</th>\n      <td>36</td>\n      <td>Johnson</td>\n      <td>62</td>\n    </tr>\n    <tr>\n      <th>36</th>\n      <td>37</td>\n      <td>Nixon</td>\n      <td>67</td>\n    </tr>\n    <tr>\n      <th>37</th>\n      <td>38</td>\n      <td>Ford</td>\n      <td>29</td>\n    </tr>\n    <tr>\n      <th>38</th>\n      <td>39</td>\n      <td>Carter</td>\n      <td>48</td>\n    </tr>\n    <tr>\n      <th>39</th>\n      <td>40</td>\n      <td>Reagan</td>\n      <td>96</td>\n    </tr>\n    <tr>\n      <th>40</th>\n      <td>41</td>\n      <td>Bush</td>\n      <td>48</td>\n    </tr>\n    <tr>\n      <th>41</th>\n      <td>42</td>\n      <td>Clinton</td>\n      <td>96</td>\n    </tr>\n    <tr>\n      <th>42</th>\n      <td>43</td>\n      <td>Bush</td>\n      <td>96</td>\n    </tr>\n  </tbody>\n</table>\n</div>",
      "text/plain": "    number        name  months\n0        1  Washington      94\n1        2       Adams      48\n2        3   Jefferson      96\n3        4     Madison      96\n4        5      Monroe      96\n5        6       Adams      48\n6        7     Jackson      96\n7        8   Van Buren      48\n8        9    Harrison       1\n9       10       Tyler      47\n10      11        Polk      48\n11      12      Taylor      16\n12      13     Filmore      32\n13      14      Pierce      48\n14      15    Buchanan      48\n15      16     Lincoln      49\n16      17     Johnson      47\n17      18       Grant      96\n18      19       Hayes      48\n19      20    Garfield       7\n20      21      Arthur      41\n21      22   Cleveland      48\n22      23    Harrison      48\n23      24   Cleveland      48\n24      25    McKinley      54\n25      26   Roosevelt      90\n26      27        Taft      48\n27      28      Wilson      96\n28      29     Harding      29\n29      30    Coolidge      67\n30      31      Hoover      48\n31      32   Roosevelt     146\n32      33      Truman      92\n33      34  Eisenhower      96\n34      35     Kennedy      34\n35      36     Johnson      62\n36      37       Nixon      67\n37      38        Ford      29\n38      39      Carter      48\n39      40      Reagan      96\n40      41        Bush      48\n41      42     Clinton      96\n42      43        Bush      96"
     },
     "execution_count": 5,
     "metadata": {},
     "output_type": "execute_result"
    }
   ],
   "source": [
    "df = pd.read_fwf(file_path, header = None)\r\n",
    "df.columns = ['number', 'name', 'months']\r\n",
    "df"
   ]
  },
  {
   "cell_type": "code",
   "execution_count": null,
   "metadata": {},
   "outputs": [],
   "source": []
  }
 ],
 "metadata": {
  "kernelspec": {
   "display_name": "Python 3 (ipykernel)",
   "language": "python",
   "name": "python3"
  },
  "language_info": {
   "codemirror_mode": {
    "name": "ipython",
    "version": 3
   },
   "file_extension": ".py",
   "mimetype": "text/x-python",
   "name": "python",
   "nbconvert_exporter": "python",
   "pygments_lexer": "ipython3",
   "version": "3.8.5"
  }
 },
 "nbformat": 4,
 "nbformat_minor": 4
}